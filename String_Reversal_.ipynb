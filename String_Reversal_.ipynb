{
  "nbformat": 4,
  "nbformat_minor": 0,
  "metadata": {
    "colab": {
      "provenance": []
    },
    "kernelspec": {
      "name": "python3",
      "display_name": "Python 3"
    },
    "language_info": {
      "name": "python"
    }
  },
  "cells": [
    {
      "cell_type": "markdown",
      "source": [
        "Level:1\n",
        "Task-1 String Reversal\n",
        "\n",
        "Create a Python function that takes a string as input and returns the reverse of that string. For example, if the input is \"hello, \" the function should return \"olleh.\""
      ],
      "metadata": {
        "id": "_BfE_4JWxZvx"
      }
    },
    {
      "cell_type": "code",
      "execution_count": 4,
      "metadata": {
        "id": "O2EkXcJMtbDz"
      },
      "outputs": [],
      "source": [
        "def reverse_string(input_string):\n",
        "    return input_string[::-1]"
      ]
    },
    {
      "cell_type": "code",
      "source": [
        "input_string = \"Python Developer\"\n",
        "reversed_string = reverse_string(input_string)\n",
        "print(reversed_string)"
      ],
      "metadata": {
        "colab": {
          "base_uri": "https://localhost:8080/"
        },
        "id": "ArL7Qc20w7_f",
        "outputId": "e3f75595-8462-4cdf-a792-305e5a89fe78"
      },
      "execution_count": 6,
      "outputs": [
        {
          "output_type": "stream",
          "name": "stdout",
          "text": [
            "repoleveD nohtyP\n"
          ]
